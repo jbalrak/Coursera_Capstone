{
    "nbformat_minor": 1, 
    "cells": [
        {
            "source": "import numpy as np # library to handle data in a vectorized manner\n\nimport pandas as pd # library for data analysis", 
            "cell_type": "code", 
            "execution_count": 1, 
            "outputs": [], 
            "metadata": {}
        }, 
        {
            "source": "!conda install -c anaconda beautifulsoup4", 
            "cell_type": "code", 
            "execution_count": 2, 
            "outputs": [
                {
                    "output_type": "stream", 
                    "name": "stdout", 
                    "text": "Solving environment: done\n\n## Package Plan ##\n\n  environment location: /opt/conda/envs/Python36\n\n  added / updated specs: \n    - beautifulsoup4\n\n\nThe following packages will be downloaded:\n\n    package                    |            build\n    ---------------------------|-----------------\n    certifi-2019.6.16          |           py36_1         156 KB  anaconda\n    ca-certificates-2019.5.15  |                1         134 KB  anaconda\n    beautifulsoup4-4.8.0       |           py36_0         147 KB  anaconda\n    openssl-1.1.1              |       h7b6447c_0         5.0 MB  anaconda\n    ------------------------------------------------------------\n                                           Total:         5.5 MB\n\nThe following packages will be UPDATED:\n\n    beautifulsoup4:  4.7.1-py36_1      --> 4.8.0-py36_0     anaconda\n    ca-certificates: 2019.5.15-1       --> 2019.5.15-1      anaconda\n    certifi:         2019.6.16-py36_1  --> 2019.6.16-py36_1 anaconda\n    openssl:         1.1.1d-h7b6447c_1 --> 1.1.1-h7b6447c_0 anaconda\n\n\nDownloading and Extracting Packages\ncertifi-2019.6.16    | 156 KB    | ##################################### | 100% \nca-certificates-2019 | 134 KB    | ##################################### | 100% \nbeautifulsoup4-4.8.0 | 147 KB    | ##################################### | 100% \nopenssl-1.1.1        | 5.0 MB    | ##################################### | 100% \nPreparing transaction: done\nVerifying transaction: done\nExecuting transaction: done\n"
                }
            ], 
            "metadata": {}
        }, 
        {
            "source": "from bs4 import BeautifulSoup", 
            "cell_type": "code", 
            "execution_count": 2, 
            "outputs": [], 
            "metadata": {}
        }, 
        {
            "source": "!conda install lxml", 
            "cell_type": "code", 
            "execution_count": 4, 
            "outputs": [
                {
                    "output_type": "stream", 
                    "name": "stdout", 
                    "text": "Solving environment: done\n\n## Package Plan ##\n\n  environment location: /opt/conda/envs/Python36\n\n  added / updated specs: \n    - lxml\n\n\nThe following packages will be downloaded:\n\n    package                    |            build\n    ---------------------------|-----------------\n    certifi-2019.6.16          |           py36_1         156 KB\n    lxml-4.4.1                 |   py36hefd8a0e_0         1.6 MB\n    ca-certificates-2019.5.15  |                1         134 KB\n    ------------------------------------------------------------\n                                           Total:         1.8 MB\n\nThe following packages will be UPDATED:\n\n    ca-certificates: 2019.5.15-1          anaconda --> 2019.5.15-1         \n    certifi:         2019.6.16-py36_1     anaconda --> 2019.6.16-py36_1    \n    lxml:            4.3.1-py36hefd8a0e_0          --> 4.4.1-py36hefd8a0e_0\n\nThe following packages will be DOWNGRADED:\n\n    openssl:         1.1.1-h7b6447c_0     anaconda --> 1.1.1d-h7b6447c_1   \n\n\nDownloading and Extracting Packages\ncertifi-2019.6.16    | 156 KB    | ##################################### | 100% \nlxml-4.4.1           | 1.6 MB    | ##################################### | 100% \nca-certificates-2019 | 134 KB    | ##################################### | 100% \nPreparing transaction: done\nVerifying transaction: done\nExecuting transaction: done\n"
                }
            ], 
            "metadata": {}
        }, 
        {
            "source": "!conda install requests", 
            "cell_type": "code", 
            "execution_count": 5, 
            "outputs": [
                {
                    "output_type": "stream", 
                    "name": "stdout", 
                    "text": "Solving environment: done\n\n## Package Plan ##\n\n  environment location: /opt/conda/envs/Python36\n\n  added / updated specs: \n    - requests\n\n\nThe following packages will be downloaded:\n\n    package                    |            build\n    ---------------------------|-----------------\n    requests-2.22.0            |           py36_0          89 KB\n\nThe following packages will be UPDATED:\n\n    requests: 2.21.0-py36_0 --> 2.22.0-py36_0\n\n\nDownloading and Extracting Packages\nrequests-2.22.0      | 89 KB     | ##################################### | 100% \nPreparing transaction: done\nVerifying transaction: done\nExecuting transaction: done\n"
                }
            ], 
            "metadata": {}
        }, 
        {
            "source": "import requests", 
            "cell_type": "code", 
            "execution_count": 3, 
            "outputs": [], 
            "metadata": {}
        }, 
        {
            "source": "import urllib.request\n\npage = urllib.request.urlopen('https://en.wikipedia.org/wiki/List_of_postal_codes_of_Canada:_M')\n\nf = open(\"PostalCodes.html\", \"w\")\ncontent = page.read()\nf.write(str(content))\nf.close()\n\n", 
            "cell_type": "code", 
            "execution_count": 4, 
            "outputs": [], 
            "metadata": {}
        }, 
        {
            "source": "Using Beautifulsoup to convert HTML to panda dataframe, and removing Not Assigned Borough records", 
            "cell_type": "markdown", 
            "metadata": {}
        }, 
        {
            "source": "with open(\"PostalCodes.html\") as html_file:\n    soup=BeautifulSoup(html_file,'lxml')\n    \n    NY_html=soup.table.prettify()\n    NY_html_clean=NY_html.replace(r'\\n','')\n    #print(NY_html_clean)\n\ndfs = pd.read_html(NY_html_clean)\ndf = dfs[0]\ndf_assigned=df[df[\"Borough\"]!=\"Not assigned\"]    \nprint(type(df_assigned.index))\ndf_assigned.index.name='Index'\ndf_assigned.head(500)\n", 
            "cell_type": "code", 
            "execution_count": 50, 
            "outputs": [
                {
                    "output_type": "stream", 
                    "name": "stdout", 
                    "text": "<class 'pandas.core.indexes.numeric.Int64Index'>\n"
                }, 
                {
                    "output_type": "execute_result", 
                    "metadata": {}, 
                    "data": {
                        "text/html": "<div>\n<style scoped>\n    .dataframe tbody tr th:only-of-type {\n        vertical-align: middle;\n    }\n\n    .dataframe tbody tr th {\n        vertical-align: top;\n    }\n\n    .dataframe thead th {\n        text-align: right;\n    }\n</style>\n<table border=\"1\" class=\"dataframe\">\n  <thead>\n    <tr style=\"text-align: right;\">\n      <th></th>\n      <th>Postcode</th>\n      <th>Borough</th>\n      <th>Neighbourhood</th>\n    </tr>\n    <tr>\n      <th>Index</th>\n      <th></th>\n      <th></th>\n      <th></th>\n    </tr>\n  </thead>\n  <tbody>\n    <tr>\n      <th>2</th>\n      <td>M3A</td>\n      <td>North York</td>\n      <td>Parkwoods</td>\n    </tr>\n    <tr>\n      <th>3</th>\n      <td>M4A</td>\n      <td>North York</td>\n      <td>Victoria Village</td>\n    </tr>\n    <tr>\n      <th>4</th>\n      <td>M5A</td>\n      <td>Downtown Toronto</td>\n      <td>Harbourfront</td>\n    </tr>\n    <tr>\n      <th>5</th>\n      <td>M5A</td>\n      <td>Downtown Toronto</td>\n      <td>Regent Park</td>\n    </tr>\n    <tr>\n      <th>6</th>\n      <td>M6A</td>\n      <td>North York</td>\n      <td>Lawrence Heights</td>\n    </tr>\n    <tr>\n      <th>7</th>\n      <td>M6A</td>\n      <td>North York</td>\n      <td>Lawrence Manor</td>\n    </tr>\n    <tr>\n      <th>8</th>\n      <td>M7A</td>\n      <td>Queen\\'s Park</td>\n      <td>Not assigned</td>\n    </tr>\n    <tr>\n      <th>10</th>\n      <td>M9A</td>\n      <td>Etobicoke</td>\n      <td>Islington Avenue</td>\n    </tr>\n    <tr>\n      <th>11</th>\n      <td>M1B</td>\n      <td>Scarborough</td>\n      <td>Rouge</td>\n    </tr>\n    <tr>\n      <th>12</th>\n      <td>M1B</td>\n      <td>Scarborough</td>\n      <td>Malvern</td>\n    </tr>\n    <tr>\n      <th>14</th>\n      <td>M3B</td>\n      <td>North York</td>\n      <td>Don Mills North</td>\n    </tr>\n    <tr>\n      <th>15</th>\n      <td>M4B</td>\n      <td>East York</td>\n      <td>Woodbine Gardens</td>\n    </tr>\n    <tr>\n      <th>16</th>\n      <td>M4B</td>\n      <td>East York</td>\n      <td>Parkview Hill</td>\n    </tr>\n    <tr>\n      <th>17</th>\n      <td>M5B</td>\n      <td>Downtown Toronto</td>\n      <td>Ryerson</td>\n    </tr>\n    <tr>\n      <th>18</th>\n      <td>M5B</td>\n      <td>Downtown Toronto</td>\n      <td>Garden District</td>\n    </tr>\n    <tr>\n      <th>19</th>\n      <td>M6B</td>\n      <td>North York</td>\n      <td>Glencairn</td>\n    </tr>\n    <tr>\n      <th>22</th>\n      <td>M9B</td>\n      <td>Etobicoke</td>\n      <td>Cloverdale</td>\n    </tr>\n    <tr>\n      <th>23</th>\n      <td>M9B</td>\n      <td>Etobicoke</td>\n      <td>Islington</td>\n    </tr>\n    <tr>\n      <th>24</th>\n      <td>M9B</td>\n      <td>Etobicoke</td>\n      <td>Martin Grove</td>\n    </tr>\n    <tr>\n      <th>25</th>\n      <td>M9B</td>\n      <td>Etobicoke</td>\n      <td>Princess Gardens</td>\n    </tr>\n    <tr>\n      <th>26</th>\n      <td>M9B</td>\n      <td>Etobicoke</td>\n      <td>West Deane Park</td>\n    </tr>\n    <tr>\n      <th>27</th>\n      <td>M1C</td>\n      <td>Scarborough</td>\n      <td>Highland Creek</td>\n    </tr>\n    <tr>\n      <th>28</th>\n      <td>M1C</td>\n      <td>Scarborough</td>\n      <td>Rouge Hill</td>\n    </tr>\n    <tr>\n      <th>29</th>\n      <td>M1C</td>\n      <td>Scarborough</td>\n      <td>Port Union</td>\n    </tr>\n    <tr>\n      <th>31</th>\n      <td>M3C</td>\n      <td>North York</td>\n      <td>Flemingdon Park</td>\n    </tr>\n    <tr>\n      <th>32</th>\n      <td>M3C</td>\n      <td>North York</td>\n      <td>Don Mills South</td>\n    </tr>\n    <tr>\n      <th>33</th>\n      <td>M4C</td>\n      <td>East York</td>\n      <td>Woodbine Heights</td>\n    </tr>\n    <tr>\n      <th>34</th>\n      <td>M5C</td>\n      <td>Downtown Toronto</td>\n      <td>St. James Town</td>\n    </tr>\n    <tr>\n      <th>35</th>\n      <td>M6C</td>\n      <td>York</td>\n      <td>Humewood-Cedarvale</td>\n    </tr>\n    <tr>\n      <th>38</th>\n      <td>M9C</td>\n      <td>Etobicoke</td>\n      <td>Bloordale Gardens</td>\n    </tr>\n    <tr>\n      <th>...</th>\n      <td>...</td>\n      <td>...</td>\n      <td>...</td>\n    </tr>\n    <tr>\n      <th>235</th>\n      <td>M9V</td>\n      <td>Etobicoke</td>\n      <td>Thistletown</td>\n    </tr>\n    <tr>\n      <th>236</th>\n      <td>M1W</td>\n      <td>Scarborough</td>\n      <td>L\\'Amoreaux West</td>\n    </tr>\n    <tr>\n      <th>239</th>\n      <td>M4W</td>\n      <td>Downtown Toronto</td>\n      <td>Rosedale</td>\n    </tr>\n    <tr>\n      <th>240</th>\n      <td>M5W</td>\n      <td>Downtown Toronto</td>\n      <td>Stn A PO Boxes 25 The Esplanade</td>\n    </tr>\n    <tr>\n      <th>243</th>\n      <td>M8W</td>\n      <td>Etobicoke</td>\n      <td>Alderwood</td>\n    </tr>\n    <tr>\n      <th>244</th>\n      <td>M8W</td>\n      <td>Etobicoke</td>\n      <td>Long Branch</td>\n    </tr>\n    <tr>\n      <th>245</th>\n      <td>M9W</td>\n      <td>Etobicoke</td>\n      <td>Northwest</td>\n    </tr>\n    <tr>\n      <th>246</th>\n      <td>M1X</td>\n      <td>Scarborough</td>\n      <td>Upper Rouge</td>\n    </tr>\n    <tr>\n      <th>249</th>\n      <td>M4X</td>\n      <td>Downtown Toronto</td>\n      <td>Cabbagetown</td>\n    </tr>\n    <tr>\n      <th>250</th>\n      <td>M4X</td>\n      <td>Downtown Toronto</td>\n      <td>St. James Town</td>\n    </tr>\n    <tr>\n      <th>251</th>\n      <td>M5X</td>\n      <td>Downtown Toronto</td>\n      <td>First Canadian Place</td>\n    </tr>\n    <tr>\n      <th>252</th>\n      <td>M5X</td>\n      <td>Downtown Toronto</td>\n      <td>Underground city</td>\n    </tr>\n    <tr>\n      <th>255</th>\n      <td>M8X</td>\n      <td>Etobicoke</td>\n      <td>The Kingsway</td>\n    </tr>\n    <tr>\n      <th>256</th>\n      <td>M8X</td>\n      <td>Etobicoke</td>\n      <td>Montgomery Road</td>\n    </tr>\n    <tr>\n      <th>257</th>\n      <td>M8X</td>\n      <td>Etobicoke</td>\n      <td>Old Mill North</td>\n    </tr>\n    <tr>\n      <th>262</th>\n      <td>M4Y</td>\n      <td>Downtown Toronto</td>\n      <td>Church and Wellesley</td>\n    </tr>\n    <tr>\n      <th>265</th>\n      <td>M7Y</td>\n      <td>East Toronto</td>\n      <td>Business Reply Mail Processing Centre 969 Eastern</td>\n    </tr>\n    <tr>\n      <th>266</th>\n      <td>M8Y</td>\n      <td>Etobicoke</td>\n      <td>Humber Bay</td>\n    </tr>\n    <tr>\n      <th>267</th>\n      <td>M8Y</td>\n      <td>Etobicoke</td>\n      <td>King\\'s Mill Park</td>\n    </tr>\n    <tr>\n      <th>268</th>\n      <td>M8Y</td>\n      <td>Etobicoke</td>\n      <td>Kingsway Park South East</td>\n    </tr>\n    <tr>\n      <th>269</th>\n      <td>M8Y</td>\n      <td>Etobicoke</td>\n      <td>Mimico NE</td>\n    </tr>\n    <tr>\n      <th>270</th>\n      <td>M8Y</td>\n      <td>Etobicoke</td>\n      <td>Old Mill South</td>\n    </tr>\n    <tr>\n      <th>271</th>\n      <td>M8Y</td>\n      <td>Etobicoke</td>\n      <td>The Queensway East</td>\n    </tr>\n    <tr>\n      <th>272</th>\n      <td>M8Y</td>\n      <td>Etobicoke</td>\n      <td>Royal York South East</td>\n    </tr>\n    <tr>\n      <th>273</th>\n      <td>M8Y</td>\n      <td>Etobicoke</td>\n      <td>Sunnylea</td>\n    </tr>\n    <tr>\n      <th>282</th>\n      <td>M8Z</td>\n      <td>Etobicoke</td>\n      <td>Kingsway Park South West</td>\n    </tr>\n    <tr>\n      <th>283</th>\n      <td>M8Z</td>\n      <td>Etobicoke</td>\n      <td>Mimico NW</td>\n    </tr>\n    <tr>\n      <th>284</th>\n      <td>M8Z</td>\n      <td>Etobicoke</td>\n      <td>The Queensway West</td>\n    </tr>\n    <tr>\n      <th>285</th>\n      <td>M8Z</td>\n      <td>Etobicoke</td>\n      <td>Royal York South West</td>\n    </tr>\n    <tr>\n      <th>286</th>\n      <td>M8Z</td>\n      <td>Etobicoke</td>\n      <td>South of Bloor</td>\n    </tr>\n  </tbody>\n</table>\n<p>211 rows \u00d7 3 columns</p>\n</div>", 
                        "text/plain": "      Postcode           Borough  \\\nIndex                              \n2          M3A        North York   \n3          M4A        North York   \n4          M5A  Downtown Toronto   \n5          M5A  Downtown Toronto   \n6          M6A        North York   \n7          M6A        North York   \n8          M7A     Queen\\'s Park   \n10         M9A         Etobicoke   \n11         M1B       Scarborough   \n12         M1B       Scarborough   \n14         M3B        North York   \n15         M4B         East York   \n16         M4B         East York   \n17         M5B  Downtown Toronto   \n18         M5B  Downtown Toronto   \n19         M6B        North York   \n22         M9B         Etobicoke   \n23         M9B         Etobicoke   \n24         M9B         Etobicoke   \n25         M9B         Etobicoke   \n26         M9B         Etobicoke   \n27         M1C       Scarborough   \n28         M1C       Scarborough   \n29         M1C       Scarborough   \n31         M3C        North York   \n32         M3C        North York   \n33         M4C         East York   \n34         M5C  Downtown Toronto   \n35         M6C              York   \n38         M9C         Etobicoke   \n...        ...               ...   \n235        M9V         Etobicoke   \n236        M1W       Scarborough   \n239        M4W  Downtown Toronto   \n240        M5W  Downtown Toronto   \n243        M8W         Etobicoke   \n244        M8W         Etobicoke   \n245        M9W         Etobicoke   \n246        M1X       Scarborough   \n249        M4X  Downtown Toronto   \n250        M4X  Downtown Toronto   \n251        M5X  Downtown Toronto   \n252        M5X  Downtown Toronto   \n255        M8X         Etobicoke   \n256        M8X         Etobicoke   \n257        M8X         Etobicoke   \n262        M4Y  Downtown Toronto   \n265        M7Y      East Toronto   \n266        M8Y         Etobicoke   \n267        M8Y         Etobicoke   \n268        M8Y         Etobicoke   \n269        M8Y         Etobicoke   \n270        M8Y         Etobicoke   \n271        M8Y         Etobicoke   \n272        M8Y         Etobicoke   \n273        M8Y         Etobicoke   \n282        M8Z         Etobicoke   \n283        M8Z         Etobicoke   \n284        M8Z         Etobicoke   \n285        M8Z         Etobicoke   \n286        M8Z         Etobicoke   \n\n                                           Neighbourhood  \nIndex                                                     \n2                                              Parkwoods  \n3                                       Victoria Village  \n4                                           Harbourfront  \n5                                            Regent Park  \n6                                       Lawrence Heights  \n7                                         Lawrence Manor  \n8                                           Not assigned  \n10                                      Islington Avenue  \n11                                                 Rouge  \n12                                               Malvern  \n14                                       Don Mills North  \n15                                      Woodbine Gardens  \n16                                         Parkview Hill  \n17                                               Ryerson  \n18                                       Garden District  \n19                                             Glencairn  \n22                                            Cloverdale  \n23                                             Islington  \n24                                          Martin Grove  \n25                                      Princess Gardens  \n26                                       West Deane Park  \n27                                        Highland Creek  \n28                                            Rouge Hill  \n29                                            Port Union  \n31                                       Flemingdon Park  \n32                                       Don Mills South  \n33                                      Woodbine Heights  \n34                                        St. James Town  \n35                                    Humewood-Cedarvale  \n38                                     Bloordale Gardens  \n...                                                  ...  \n235                                          Thistletown  \n236                                     L\\'Amoreaux West  \n239                                             Rosedale  \n240                      Stn A PO Boxes 25 The Esplanade  \n243                                            Alderwood  \n244                                          Long Branch  \n245                                            Northwest  \n246                                          Upper Rouge  \n249                                          Cabbagetown  \n250                                       St. James Town  \n251                                 First Canadian Place  \n252                                     Underground city  \n255                                         The Kingsway  \n256                                      Montgomery Road  \n257                                       Old Mill North  \n262                                 Church and Wellesley  \n265    Business Reply Mail Processing Centre 969 Eastern  \n266                                           Humber Bay  \n267                                    King\\'s Mill Park  \n268                             Kingsway Park South East  \n269                                            Mimico NE  \n270                                       Old Mill South  \n271                                   The Queensway East  \n272                                Royal York South East  \n273                                             Sunnylea  \n282                             Kingsway Park South West  \n283                                            Mimico NW  \n284                                   The Queensway West  \n285                                Royal York South West  \n286                                       South of Bloor  \n\n[211 rows x 3 columns]"
                    }, 
                    "execution_count": 50
                }
            ], 
            "metadata": {}
        }, 
        {
            "source": "#df_assigned.Postcode.duplicated()\ndf_assigned.columns = df_assigned.columns.str.strip() ", 
            "cell_type": "code", 
            "execution_count": 6, 
            "outputs": [], 
            "metadata": {}
        }, 
        {
            "source": "Replacing Not assigned Neighbourhoods", 
            "cell_type": "markdown", 
            "metadata": {}
        }, 
        {
            "source": "    df_update1=df_assigned\n    for row in df_assigned.itertuples():\n        if df_assigned.loc[row.Index, 'Neighbourhood'] == \"Not assigned\":\n            #print(df_assigned.loc[row.Index, 'Neighbourhood'])\n            df_update1.loc[row.Index,'Neighbourhood'] = df_assigned.loc[row.Index, 'Borough']\n           \n    df_update1.head(10)  ", 
            "cell_type": "code", 
            "execution_count": 55, 
            "outputs": [
                {
                    "output_type": "execute_result", 
                    "metadata": {}, 
                    "data": {
                        "text/html": "<div>\n<style scoped>\n    .dataframe tbody tr th:only-of-type {\n        vertical-align: middle;\n    }\n\n    .dataframe tbody tr th {\n        vertical-align: top;\n    }\n\n    .dataframe thead th {\n        text-align: right;\n    }\n</style>\n<table border=\"1\" class=\"dataframe\">\n  <thead>\n    <tr style=\"text-align: right;\">\n      <th></th>\n      <th>Postcode</th>\n      <th>Borough</th>\n      <th>Neighbourhood</th>\n    </tr>\n    <tr>\n      <th>Index</th>\n      <th></th>\n      <th></th>\n      <th></th>\n    </tr>\n  </thead>\n  <tbody>\n    <tr>\n      <th>2</th>\n      <td>M3A</td>\n      <td>North York</td>\n      <td>Parkwoods</td>\n    </tr>\n    <tr>\n      <th>3</th>\n      <td>M4A</td>\n      <td>North York</td>\n      <td>Victoria Village</td>\n    </tr>\n    <tr>\n      <th>4</th>\n      <td>M5A</td>\n      <td>Downtown Toronto</td>\n      <td>Harbourfront</td>\n    </tr>\n    <tr>\n      <th>5</th>\n      <td>M5A</td>\n      <td>Downtown Toronto</td>\n      <td>Regent Park</td>\n    </tr>\n    <tr>\n      <th>6</th>\n      <td>M6A</td>\n      <td>North York</td>\n      <td>Lawrence Heights</td>\n    </tr>\n    <tr>\n      <th>7</th>\n      <td>M6A</td>\n      <td>North York</td>\n      <td>Lawrence Manor</td>\n    </tr>\n    <tr>\n      <th>8</th>\n      <td>M7A</td>\n      <td>Queen\\'s Park</td>\n      <td>Queen\\'s Park</td>\n    </tr>\n    <tr>\n      <th>10</th>\n      <td>M9A</td>\n      <td>Etobicoke</td>\n      <td>Islington Avenue</td>\n    </tr>\n    <tr>\n      <th>11</th>\n      <td>M1B</td>\n      <td>Scarborough</td>\n      <td>Rouge</td>\n    </tr>\n    <tr>\n      <th>12</th>\n      <td>M1B</td>\n      <td>Scarborough</td>\n      <td>Malvern</td>\n    </tr>\n  </tbody>\n</table>\n</div>", 
                        "text/plain": "      Postcode           Borough     Neighbourhood\nIndex                                             \n2          M3A        North York         Parkwoods\n3          M4A        North York  Victoria Village\n4          M5A  Downtown Toronto      Harbourfront\n5          M5A  Downtown Toronto       Regent Park\n6          M6A        North York  Lawrence Heights\n7          M6A        North York    Lawrence Manor\n8          M7A     Queen\\'s Park     Queen\\'s Park\n10         M9A         Etobicoke  Islington Avenue\n11         M1B       Scarborough             Rouge\n12         M1B       Scarborough           Malvern"
                    }, 
                    "execution_count": 55
                }
            ], 
            "metadata": {}
        }, 
        {
            "source": "I did not succeed in merging the duplicate rows. Need some guidance.", 
            "cell_type": "markdown", 
            "metadata": {}
        }, 
        {
            "source": "#for row in df_assigned.itertuples():\n   # if df_assigned.iloc[row.Index,0] == df_assigned.iloc[row.Index-1,0]:\n    #    print(row.Index)\n   #     print(row.Index-1)\n    #    print(\"duplicate identified for PostCode \" + df_assigned.iloc[row.Index,0] +\" AND PostCode \"+ df_assigned.iloc[row.Index-1,0])\n    #    print(\"first row data: \" + df_assigned.iloc[row.Index,0] + \" / \" + df_assigned.iloc[row.Index,1] + \" / \" + df_assigned.iloc[row.Index,2])\n    #    print(\"previous row data: \" + df_assigned.iloc[row.Index-1,0] + \" / \" + df_assigned.iloc[row.Index-1,1] + \" / \" + df_assigned.iloc[row.Index-1,2])\n        \n  #  else:\n  #      print(row.Index)\n  #      print(row.Index-1)\n  #      print(\"NO duplicate identified: \"+ df_assigned.loc[row.Index, 'Postcode'])\n       ", 
            "cell_type": "code", 
            "execution_count": 54, 
            "outputs": [], 
            "metadata": {}
        }, 
        {
            "source": "", 
            "cell_type": "code", 
            "execution_count": null, 
            "outputs": [], 
            "metadata": {}
        }
    ], 
    "nbformat": 4, 
    "metadata": {
        "kernelspec": {
            "display_name": "Python 3.6", 
            "name": "python3", 
            "language": "python"
        }, 
        "language_info": {
            "mimetype": "text/x-python", 
            "nbconvert_exporter": "python", 
            "version": "3.6.8", 
            "name": "python", 
            "pygments_lexer": "ipython3", 
            "file_extension": ".py", 
            "codemirror_mode": {
                "version": 3, 
                "name": "ipython"
            }
        }
    }
}